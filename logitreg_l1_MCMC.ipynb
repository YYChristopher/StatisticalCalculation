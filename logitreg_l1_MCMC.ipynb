{
 "cells": [
  {
   "cell_type": "code",
   "execution_count": 1,
   "metadata": {},
   "outputs": [],
   "source": [
    "import random\n",
    "import numpy as np\n",
    "import pandas as pd\n",
    "from matplotlib import pyplot as plt\n",
    "from scipy import stats as st\n",
    "import math\n",
    "plt.rcParams['font.sans-serif']=['SimHei'] #用来正常显示中文标签\n",
    "plt.rcParams['axes.unicode_minus']=False #用来正常显示负号 #有中文出现的情况"
   ]
  },
  {
   "cell_type": "code",
   "execution_count": 22,
   "metadata": {},
   "outputs": [],
   "source": [
    "class LogitRegression:\n",
    "    \n",
    "    class Model:\n",
    "        \"\"\"\n",
    "        desc:训练出的模型\n",
    "        \"\"\"\n",
    "        def __init__(self,theta):\n",
    "            \"\"\"\n",
    "            desc:根据传入的 θ 构建模型 \n",
    "            \"\"\"\n",
    "            self.theta = theta\n",
    "        def predict(self,x_test):\n",
    "            \"\"\"\n",
    "            desc:根据传入的特征,利用模型预测数据\n",
    "            \"\"\"\n",
    "            t = np.dot(x_test, self.theta)\n",
    "            # 得出类别为 1 的概率\n",
    "            result = LogitRegression.sigmoid(t)\n",
    "            # 将所有数据取整  p > 0.5 return: 1 , p <= 0.5 return: 0\n",
    "            return np.round(result)\n",
    "    \n",
    "    def __init__(self,theta,lamb,Sigma,mu,sig,max_iter):\n",
    "        ''' \n",
    "        :param theta: 待估计的参数向量（logit回归参数）\n",
    "        :param lamb: L1正则的超参数\n",
    "        :param sigma: 用于生成eps的多元正态分布的协方差矩阵\n",
    "        :param mu: 先验正态分布的均值\n",
    "        :param sig: 先验正态分布的协方差矩阵的对角元素\n",
    "        :param max_iter: MCMC的最大迭代次数\n",
    "        '''\n",
    "        self.theta = theta\n",
    "        self.lamb = lamb\n",
    "        self.Sigma = Sigma\n",
    "        self.mu = mu\n",
    "        self.sig = sig\n",
    "        self.max_iter = max_iter\n",
    "\n",
    "    def fit(self,x_data,y_data,method):\n",
    "        \"\"\"\n",
    "        :param x_data: 特征值\n",
    "        :param y_data: 标签值\n",
    "        :param method: 方法l1或l2\n",
    "        \"\"\"\n",
    "        iter_cnt = 0  #初始化迭代次数为0\n",
    "        data_len = x_data.shape[0]  #样本量n\n",
    "        # 开始迭代\n",
    "        if method=='l1':\n",
    "            self.l1_logit_mcmc(x_data,y_data)\n",
    "        elif method=='l2':\n",
    "            self.l2_logit_mcmc(x_data,y_data)\n",
    "        else:\n",
    "            print('You use the wrong method.')\n",
    "\n",
    "        return self.Model(self.theta)\n",
    "    \n",
    "    def sigmoid(x):\n",
    "        t = 1 + np.exp(-x)\n",
    "        result = np.divide(1,t)\n",
    "        return result\n",
    "\n",
    "    def l1_logit_func(self,X,y,thetas):\n",
    "        ''' \n",
    "        :param X: 待输入的数据特征\n",
    "        :param y: 待输入的数据标签\n",
    "        :param theta: 待估计的参数向量（logit回归参数）\n",
    "        :param lamb: L1正则的超参数\n",
    "        :param mu: 先验正态分布的均值\n",
    "        :param sig: 先验正态分布的协方差矩阵的对角元素\n",
    "        '''\n",
    "        data_len = X.shape[0]  #样本量n\n",
    "        feature_len = thetas.shape[0]  #特征数p\n",
    "        j_ = 1\n",
    "        for i in range(data_len):\n",
    "            t1 = np.dot(X[i], thetas) \n",
    "            h_theta = LogitRegression.sigmoid(t1)\n",
    "            h_ = pow(h_theta,y[i])*pow(1-h_theta,1-y[i])\n",
    "            j_ = j_*h_\n",
    "        \n",
    "        k_ = 1\n",
    "        for j in range(feature_len):\n",
    "            p_ = np.exp(-np.abs(thetas[j]-self.mu[j])/self.sig[j])/(2*self.sig[j])\n",
    "            k_ = k_*p_\n",
    "\n",
    "        dis = j_*k_\n",
    "        return dis\n",
    "\n",
    "    def l2_logit_func(self,X,y,thetas):\n",
    "        ''' \n",
    "        :param X: 待输入的数据特征\n",
    "        :param y: 待输入的数据标签\n",
    "        :param theta: 待估计的参数向量（logit回归参数）\n",
    "        :param lamb: L1正则的超参数\n",
    "        :param mu: 先验正态分布的均值\n",
    "        :param sig: 先验正态分布的协方差矩阵的对角元素\n",
    "        '''\n",
    "        data_len = X.shape[0]  #样本量n\n",
    "        feature_len = thetas.shape[0]  #特征数p\n",
    "        j_ = 1\n",
    "        for i in range(data_len):\n",
    "            t1 = np.dot(X[i], thetas) \n",
    "            h_theta = LogitRegression.sigmoid(t1)\n",
    "            h_ = pow(h_theta,y[i])*pow(1-h_theta,1-y[i])\n",
    "            j_ = j_*h_\n",
    "        \n",
    "        k_ = 1\n",
    "        for j in range(feature_len):\n",
    "            p_ = np.exp(-pow(thetas[j]-self.mu[j],2)/(2*pow(self.sig[j],2)))/(math.sqrt(2*math.pi)*self.sig[j])\n",
    "            k_ = k_*p_\n",
    "\n",
    "        dis = j_*k_\n",
    "        return dis\n",
    "\n",
    "    def l1_logit_mcmc(self,X,y):\n",
    "        \n",
    "        ''' \n",
    "        :param X: 待输入的数据特征\n",
    "        :param y: 待输入的数据标签\n",
    "        :param theta: 待估计的参数向量（logit回归参数）\n",
    "        :param lamb: L1正则的超参数\n",
    "        :param sigma: 用于生成eps的多元正态分布的协方差矩阵\n",
    "        :param mu: 先验正态分布的均值\n",
    "        :param sig: 先验正态分布的协方差矩阵的对角元素\n",
    "        :param max_iter: MCMC的最大迭代次数\n",
    "        '''\n",
    "        theta_list = []\n",
    "        theta_list.append(self.theta)\n",
    "        accept = 0\n",
    "        feature_len = self.theta.shape[0]  #特征数p\n",
    "        for i in np.arange(1,self.max_iter):\n",
    "            beta = np.random.multivariate_normal(theta_list[i-1],self.Sigma,size=1).squeeze()\n",
    "            u = np.random.rand(1)\n",
    "            judge = self.l1_logit_func(X,y,beta)/self.l1_logit_func(X,y,theta_list[i-1])\n",
    "            prob = min(1,judge)\n",
    "            if u <= prob:\n",
    "                theta_list.append(beta)\n",
    "                accept += 1\n",
    "            else:\n",
    "                theta_list.append(theta_list[i-1])\n",
    "\n",
    "        accept_rate = accept/self.max_iter\n",
    "        self.theta = theta_list[-1]\n",
    "        return theta_list,accept_rate\n",
    "\n",
    "    def l2_logit_mcmc(self,X,y):\n",
    "        \n",
    "        ''' \n",
    "        :param X: 待输入的数据特征\n",
    "        :param y: 待输入的数据标签\n",
    "        :param theta: 待估计的参数向量（logit回归参数）\n",
    "        :param lamb: L1正则的超参数\n",
    "        :param sigma: 用于生成eps的多元正态分布的协方差矩阵\n",
    "        :param mu: 先验正态分布的均值\n",
    "        :param sig: 先验正态分布的协方差矩阵的对角元素\n",
    "        :param max_iter: MCMC的最大迭代次数\n",
    "        '''\n",
    "        theta_list = []\n",
    "        theta_list.append(self.theta)\n",
    "        accept = 0\n",
    "        feature_len = self.theta.shape[0]  #特征数p\n",
    "        for i in np.arange(1,self.max_iter):\n",
    "            beta = np.random.multivariate_normal(theta_list[i-1],self.Sigma,size=1).squeeze()\n",
    "            u = np.random.rand(1)\n",
    "            judge = self.l2_logit_func(X,y,beta)/self.l2_logit_func(X,y,theta_list[i-1])\n",
    "            prob = min(1,judge)\n",
    "            if u <= prob:\n",
    "                theta_list.append(beta)\n",
    "                accept += 1\n",
    "            else:\n",
    "                theta_list.append(theta_list[i-1])\n",
    "\n",
    "        accept_rate = accept/self.max_iter\n",
    "        self.theta = theta_list[-1]\n",
    "        return theta_list,accept_rate"
   ]
  },
  {
   "attachments": {},
   "cell_type": "markdown",
   "metadata": {},
   "source": [
    "#### 用鸢尾花数据集进行验证"
   ]
  },
  {
   "cell_type": "code",
   "execution_count": 30,
   "metadata": {},
   "outputs": [],
   "source": [
    "from sklearn.datasets import load_iris\n",
    "from sklearn.model_selection import train_test_split\n",
    "from sklearn.metrics import accuracy_score, recall_score, precision_score, f1_score\n",
    "iris_data = np.column_stack(load_iris(return_X_y=True))\n",
    "# 这里我们实现的只是二分类算法,左右只需要类别0和类别1两种即可\n",
    "iris_data = iris_data[iris_data[:,-1]<2]\n",
    "# 将数据打乱\n",
    "np.random.shuffle(iris_data)\n",
    "# 将数据分成两份\n",
    "train_x,test_x,train_y,test_y = train_test_split(iris_data[:,:-1],iris_data[:,-1],test_size=0.3,random_state=2)"
   ]
  },
  {
   "cell_type": "code",
   "execution_count": 25,
   "metadata": {},
   "outputs": [
    {
     "name": "stdout",
     "output_type": "stream",
     "text": [
      "预测准确率为:1.0000\n",
      "预测查准率为:1.0000\n",
      "预测召回率为:1.0000\n",
      "预测f1-score为:1.0000\n",
      "模型系数结果beta为 [-0.97252456 -1.06642838  3.81230857 -0.64347327]\n"
     ]
    }
   ],
   "source": [
    "ini_theta = np.array([0]*train_x.shape[1],dtype=float)\n",
    "sigma = np.eye(ini_theta.shape[0])\n",
    "mu = np.array([0]*train_x.shape[1],dtype=float)\n",
    "sig = np.array([1]*train_x.shape[1],dtype=float)\n",
    "lr = LogitRegression(theta=ini_theta,lamb=0.01,Sigma=sigma,mu=mu,sig=sig,max_iter=30000)\n",
    "m = lr.fit(train_x,train_y,'l1')\n",
    "pred_y_l1 = m.predict(test_x)\n",
    "\n",
    "acc = accuracy_score(test_y,pred_y_l1)\n",
    "rec = recall_score(test_y,pred_y_l1)\n",
    "pre = precision_score(test_y,pred_y_l1)\n",
    "f1 = f1_score(test_y,pred_y_l1)\n",
    "\n",
    "print('预测准确率为:{:.4f}'.format(acc))\n",
    "print('预测查准率为:{:.4f}'.format(pre))\n",
    "print('预测召回率为:{:.4f}'.format(rec))\n",
    "print('预测f1-score为:{:.4f}'.format(f1))\n",
    "print('模型系数结果beta为',m.theta)"
   ]
  },
  {
   "cell_type": "code",
   "execution_count": 26,
   "metadata": {},
   "outputs": [
    {
     "name": "stdout",
     "output_type": "stream",
     "text": [
      "预测准确率为:1.0000\n",
      "预测查准率为:1.0000\n",
      "预测召回率为:1.0000\n",
      "预测f1-score为:1.0000\n",
      "模型系数结果beta为 [-0.6452443  -1.26659608  2.69012003  0.52950857]\n"
     ]
    }
   ],
   "source": [
    "ini_theta = np.array([0]*train_x.shape[1],dtype=float)\n",
    "sigma = np.eye(ini_theta.shape[0])\n",
    "mu = np.array([0]*train_x.shape[1],dtype=float)\n",
    "sig = np.array([1]*train_x.shape[1],dtype=float)\n",
    "lr = LogitRegression(theta=ini_theta,lamb=0.01,Sigma=sigma,mu=mu,sig=sig,max_iter=30000)\n",
    "m = lr.fit(train_x,train_y,'l2')\n",
    "pred_y_l2 = m.predict(test_x)\n",
    "\n",
    "acc = accuracy_score(test_y,pred_y_l2)\n",
    "rec = recall_score(test_y,pred_y_l2)\n",
    "pre = precision_score(test_y,pred_y_l2)\n",
    "f1 = f1_score(test_y,pred_y_l2)\n",
    "\n",
    "print('预测准确率为:{:.4f}'.format(acc))\n",
    "print('预测查准率为:{:.4f}'.format(pre))\n",
    "print('预测召回率为:{:.4f}'.format(rec))\n",
    "print('预测f1-score为:{:.4f}'.format(f1))\n",
    "print('模型系数结果beta为',m.theta)"
   ]
  },
  {
   "cell_type": "code",
   "execution_count": 31,
   "metadata": {},
   "outputs": [
    {
     "name": "stdout",
     "output_type": "stream",
     "text": [
      "预测准确率为:1.0000\n",
      "预测查准率为:1.0000\n",
      "预测召回率为:1.0000\n",
      "预测f1-score为:1.0000\n",
      "[[-0.39576795 -1.33967636  2.08088193  0.9478365 ]]\n"
     ]
    }
   ],
   "source": [
    "from sklearn.linear_model import LogisticRegression\n",
    "from sklearn.metrics import accuracy_score, recall_score, precision_score, f1_score\n",
    "\n",
    "lr_l1 = LogisticRegression(penalty=\"l2\", solver=\"liblinear\", max_iter=1000)\n",
    "lr_l1.fit(train_x,train_y)\n",
    "pred_y_lr = lr_l1.predict(test_x)\n",
    "\n",
    "acc = accuracy_score(test_y,pred_y_lr)\n",
    "rec = recall_score(test_y,pred_y_lr)\n",
    "pre = precision_score(test_y,pred_y_lr)\n",
    "f1 = f1_score(test_y,pred_y_lr)\n",
    "\n",
    "print('预测准确率为:{:.4f}'.format(acc))\n",
    "print('预测查准率为:{:.4f}'.format(pre))\n",
    "print('预测召回率为:{:.4f}'.format(rec))\n",
    "print('预测f1-score为:{:.4f}'.format(f1))\n",
    "\n",
    "print(lr_l1.coef_)"
   ]
  },
  {
   "attachments": {},
   "cell_type": "markdown",
   "metadata": {},
   "source": [
    "#### 用作业五数据集进行验证"
   ]
  },
  {
   "cell_type": "code",
   "execution_count": 33,
   "metadata": {},
   "outputs": [],
   "source": [
    "data = pd.read_csv('data.csv')\n",
    "\n",
    "from sklearn.model_selection import train_test_split\n",
    "train_data, test_data = train_test_split(data, test_size=0.2, random_state=42)\n",
    "\n",
    "# 训练数据\n",
    "train_x = train_data.iloc[:,1:].values \n",
    "train_y = np.array(train_data.iloc[:,0])\n",
    "# 测试数据\n",
    "test_x = test_data.iloc[:,1:].values\n",
    "test_y = np.array(test_data.iloc[:,0])"
   ]
  },
  {
   "cell_type": "code",
   "execution_count": 21,
   "metadata": {},
   "outputs": [
    {
     "name": "stdout",
     "output_type": "stream",
     "text": [
      "预测准确率为:0.7000\n",
      "预测查准率为:0.6667\n",
      "预测召回率为:0.7368\n",
      "预测f1-score为:0.7000\n",
      "模型系数结果beta为 [ 1.00319243  2.2100314   1.02455745 -2.01142384 -2.04800168]\n"
     ]
    }
   ],
   "source": [
    "ini_theta = np.array([0]*train_x.shape[1],dtype=float)\n",
    "sigma = np.eye(ini_theta.shape[0])\n",
    "mu = np.array([0]*train_x.shape[1],dtype=float)\n",
    "sig = np.array([1]*train_x.shape[1],dtype=float)\n",
    "lr = LogitRegression(theta=ini_theta,lamb=0.01,Sigma=sigma,mu=mu,sig=sig,max_iter=10000)\n",
    "m = lr.fit(train_x,train_y,'l1')\n",
    "pred_y_l1 = m.predict(test_x)\n",
    "\n",
    "acc = accuracy_score(test_y,pred_y_l1)\n",
    "rec = recall_score(test_y,pred_y_l1)\n",
    "pre = precision_score(test_y,pred_y_l1)\n",
    "f1 = f1_score(test_y,pred_y_l1)\n",
    "\n",
    "print('预测准确率为:{:.4f}'.format(acc))\n",
    "print('预测查准率为:{:.4f}'.format(pre))\n",
    "print('预测召回率为:{:.4f}'.format(rec))\n",
    "print('预测f1-score为:{:.4f}'.format(f1))\n",
    "print('模型系数结果beta为',m.theta)"
   ]
  },
  {
   "cell_type": "code",
   "execution_count": 29,
   "metadata": {},
   "outputs": [
    {
     "name": "stdout",
     "output_type": "stream",
     "text": [
      "预测准确率为:0.7750\n",
      "预测查准率为:0.7273\n",
      "预测召回率为:0.8421\n",
      "预测f1-score为:0.7805\n",
      "模型系数结果beta为 [ 1.14342195  1.31200235  0.02890504 -0.55291776 -1.95797937]\n"
     ]
    }
   ],
   "source": [
    "ini_theta = np.array([0]*train_x.shape[1],dtype=float)\n",
    "sigma = np.eye(ini_theta.shape[0])\n",
    "mu = np.array([0]*train_x.shape[1],dtype=float)\n",
    "sig = np.array([1]*train_x.shape[1],dtype=float)\n",
    "lr = LogitRegression(theta=ini_theta,lamb=0.01,Sigma=sigma,mu=mu,sig=sig,max_iter=30000)\n",
    "m = lr.fit(train_x,train_y,'l2')\n",
    "pred_y_l2 = m.predict(test_x)\n",
    "\n",
    "acc = accuracy_score(test_y,pred_y_l2)\n",
    "rec = recall_score(test_y,pred_y_l2)\n",
    "pre = precision_score(test_y,pred_y_l2)\n",
    "f1 = f1_score(test_y,pred_y_l2)\n",
    "\n",
    "print('预测准确率为:{:.4f}'.format(acc))\n",
    "print('预测查准率为:{:.4f}'.format(pre))\n",
    "print('预测召回率为:{:.4f}'.format(rec))\n",
    "print('预测f1-score为:{:.4f}'.format(f1))\n",
    "print('模型系数结果beta为',m.theta)"
   ]
  },
  {
   "cell_type": "code",
   "execution_count": 20,
   "metadata": {},
   "outputs": [
    {
     "name": "stdout",
     "output_type": "stream",
     "text": [
      "预测准确率为:0.7250\n",
      "预测查准率为:0.6667\n",
      "预测召回率为:0.8421\n",
      "预测f1-score为:0.7442\n",
      "[[ 1.20252945  1.42441513  0.40335074 -1.10683269 -1.9855369 ]]\n"
     ]
    }
   ],
   "source": [
    "lr_l1 = LogisticRegression(penalty=\"l1\", solver=\"liblinear\", max_iter=1000)\n",
    "lr_l1.fit(train_x,train_y)\n",
    "pred_y_lr = lr_l1.predict(test_x)\n",
    "\n",
    "acc = accuracy_score(test_y,pred_y_lr)\n",
    "rec = recall_score(test_y,pred_y_lr)\n",
    "pre = precision_score(test_y,pred_y_lr)\n",
    "f1 = f1_score(test_y,pred_y_lr)\n",
    "\n",
    "print('预测准确率为:{:.4f}'.format(acc))\n",
    "print('预测查准率为:{:.4f}'.format(pre))\n",
    "print('预测召回率为:{:.4f}'.format(rec))\n",
    "print('预测f1-score为:{:.4f}'.format(f1))\n",
    "\n",
    "print(lr_l1.coef_)"
   ]
  },
  {
   "cell_type": "code",
   "execution_count": 34,
   "metadata": {},
   "outputs": [
    {
     "name": "stdout",
     "output_type": "stream",
     "text": [
      "预测准确率为:0.7000\n",
      "预测查准率为:0.6522\n",
      "预测召回率为:0.7895\n",
      "预测f1-score为:0.7143\n",
      "[[ 1.18490769  1.2798258   0.47955201 -1.17427586 -1.82474141]]\n"
     ]
    }
   ],
   "source": [
    "lr_l1 = LogisticRegression(penalty=\"l2\", solver=\"liblinear\", max_iter=1000)\n",
    "lr_l1.fit(train_x,train_y)\n",
    "pred_y_lr = lr_l1.predict(test_x)\n",
    "\n",
    "acc = accuracy_score(test_y,pred_y_lr)\n",
    "rec = recall_score(test_y,pred_y_lr)\n",
    "pre = precision_score(test_y,pred_y_lr)\n",
    "f1 = f1_score(test_y,pred_y_lr)\n",
    "\n",
    "print('预测准确率为:{:.4f}'.format(acc))\n",
    "print('预测查准率为:{:.4f}'.format(pre))\n",
    "print('预测召回率为:{:.4f}'.format(rec))\n",
    "print('预测f1-score为:{:.4f}'.format(f1))\n",
    "\n",
    "print(lr_l1.coef_)"
   ]
  }
 ],
 "metadata": {
  "kernelspec": {
   "display_name": "base",
   "language": "python",
   "name": "python3"
  },
  "language_info": {
   "codemirror_mode": {
    "name": "ipython",
    "version": 3
   },
   "file_extension": ".py",
   "mimetype": "text/x-python",
   "name": "python",
   "nbconvert_exporter": "python",
   "pygments_lexer": "ipython3",
   "version": "3.8.5 (default, Sep  3 2020, 21:29:08) [MSC v.1916 64 bit (AMD64)]"
  },
  "orig_nbformat": 4,
  "vscode": {
   "interpreter": {
    "hash": "16f5b46f222e2a3e8d4adbf7141cae37b71ed37616e60735fa5d1164a1bc3ada"
   }
  }
 },
 "nbformat": 4,
 "nbformat_minor": 2
}
